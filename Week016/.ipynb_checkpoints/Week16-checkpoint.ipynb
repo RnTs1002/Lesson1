{
 "cells": [
  {
   "cell_type": "code",
   "execution_count": null,
   "id": "0db16fad-680e-4984-b684-f3ba6718368a",
   "metadata": {},
   "outputs": [],
   "source": [
    "1. AIGC 工具创作的数字作品，版权应该归属谁？如何界定这种归属权？"
   ]
  },
  {
   "cell_type": "code",
   "execution_count": null,
   "id": "8459707a-0bc5-4249-95a4-0cb09507a7a8",
   "metadata": {},
   "outputs": [],
   "source": []
  },
  {
   "cell_type": "code",
   "execution_count": null,
   "id": "ab9e2688-e103-406f-9cfa-fa1af6847472",
   "metadata": {},
   "outputs": [],
   "source": [
    "2. 列举你身边的实例，说明人工智能（特别是 AIGC ）工具在科学研究上带来的突破性帮助。"
   ]
  },
  {
   "cell_type": "code",
   "execution_count": null,
   "id": "c4adb3ea-ac2f-4c0e-8db4-859fb89938ba",
   "metadata": {},
   "outputs": [],
   "source": []
  },
  {
   "cell_type": "code",
   "execution_count": null,
   "id": "4576b01a-3da1-4499-8ce0-2ec3a12e1817",
   "metadata": {},
   "outputs": [],
   "source": [
    "3. 从校园学习的角度，你和 AI 工具的协作模式可以是怎样的？试通过具体的案例来说明，如何提高你个人的学习效果。"
   ]
  },
  {
   "cell_type": "code",
   "execution_count": null,
   "id": "eebec1f0-2150-4758-8304-5752c346c649",
   "metadata": {},
   "outputs": [],
   "source": []
  }
 ],
 "metadata": {
  "kernelspec": {
   "display_name": "Python 3 (ipykernel)",
   "language": "python",
   "name": "python3"
  },
  "language_info": {
   "codemirror_mode": {
    "name": "ipython",
    "version": 3
   },
   "file_extension": ".py",
   "mimetype": "text/x-python",
   "name": "python",
   "nbconvert_exporter": "python",
   "pygments_lexer": "ipython3",
   "version": "3.11.5"
  }
 },
 "nbformat": 4,
 "nbformat_minor": 5
}
