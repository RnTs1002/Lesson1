{
 "cells": [
  {
   "cell_type": "markdown",
   "id": "9a289065-6139-4b9a-9af8-e792a559de66",
   "metadata": {},
   "source": [
    "3.\n",
    "CREATE TABLE user(\n",
    "  id INT PRIMARY KEY AUTO_INCREMENT,\n",
    "  name VARCHAR(50) NOT NULL,\n",
    "  sex ENUM('Male','Female'),\n",
    "  age INT,\n",
    "  phone VARCHAR(20),\n",
    ");"
   ]
  },
  {
   "cell_type": "markdown",
   "id": "8bdd9be9-ece4-4b09-bb7b-2f388af75d99",
   "metadata": {},
   "source": [
    "4.\n",
    "SELECT * FROM user WHERE age BETWEEN 20 AND 30;"
   ]
  },
  {
   "cell_type": "markdown",
   "id": "b75ae481-2e6c-4ee3-8154-f6c37de6ac47",
   "metadata": {},
   "source": [
    "5.\n",
    "DELECT FROM user WHERE name LIKE '%张%';"
   ]
  },
  {
   "cell_type": "markdown",
   "id": "9a387d03-1dca-49b2-baf6-2df119dc3694",
   "metadata": {},
   "source": [
    "6.\n",
    "SELECT AVG(age) FROM user;"
   ]
  },
  {
   "cell_type": "markdown",
   "id": "655042cc-0814-4c2f-9abf-5b9850fb8b71",
   "metadata": {},
   "source": [
    "7.\n",
    "SELECT * FROM user WHERE age BETWEEN 20 AND 30 AND name LIKE '%张%' GROUP BY age DESC;"
   ]
  },
  {
   "cell_type": "markdown",
   "id": "4181e2ca-4489-441f-be9e-ddfdd599f8fa",
   "metadata": {},
   "source": [
    "8.\n",
    "CREATE TABLE team(\n",
    "  id INT PRIMARY KEY AUTO_INCREAMENT,\n",
    "  teamName VARCHAR(50) NOT NULL,\n",
    ");\n",
    "CREATE TABLE score(\n",
    "  id INT PRIMARY KEY AUTO_INCREAMENT,\n",
    "  teamid INT,\n",
    "  userid INT,\n",
    "  score INT NOT NULL,\n",
    "),\n",
    "FOREIGN KEY (teamid) REFERENCES team(id),\n",
    "FOREIGN KEY (userid) REFERENCES team(user);"
   ]
  },
  {
   "cell_type": "markdown",
   "id": "59b4767a-9576-4035-b09f-c7eb7ef7198a",
   "metadata": {},
   "source": [
    "9.\n",
    "SELECT * FROM team Where teamname='ECNU' AND age < 20;"
   ]
  },
  {
   "cell_type": "markdown",
   "id": "90c4c16d-1519-4d11-a07a-f6c44c5bd346",
   "metadata": {},
   "source": [
    "10.\n",
    "SELECT SUM(score) FROM team WHERE teamname='ECNU';"
   ]
  }
 ],
 "metadata": {
  "kernelspec": {
   "display_name": "Python 3 (ipykernel)",
   "language": "python",
   "name": "python3"
  },
  "language_info": {
   "codemirror_mode": {
    "name": "ipython",
    "version": 3
   },
   "file_extension": ".py",
   "mimetype": "text/x-python",
   "name": "python",
   "nbconvert_exporter": "python",
   "pygments_lexer": "ipython3",
   "version": "3.11.5"
  }
 },
 "nbformat": 4,
 "nbformat_minor": 5
}
